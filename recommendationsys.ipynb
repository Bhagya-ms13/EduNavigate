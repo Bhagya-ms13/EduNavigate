{
 "cells": [
  {
   "cell_type": "code",
   "execution_count": 1,
   "id": "7e3b28eb",
   "metadata": {},
   "outputs": [],
   "source": [
    "import pandas as pd\n",
    "import numpy as np"
   ]
  },
  {
   "cell_type": "code",
   "execution_count": 2,
   "id": "568362ac",
   "metadata": {},
   "outputs": [],
   "source": [
    "df = pd.read_csv('course.csv', encoding='latin-1', usecols=['Category','Sub-Category','Skills'], dtype={'Category': 'str', 'Sub-Category': 'str','Skills':'str'})"
   ]
  },
  {
   "cell_type": "code",
   "execution_count": 3,
   "id": "da4db3db",
   "metadata": {},
   "outputs": [
    {
     "data": {
      "text/html": [
       "<div>\n",
       "<style scoped>\n",
       "    .dataframe tbody tr th:only-of-type {\n",
       "        vertical-align: middle;\n",
       "    }\n",
       "\n",
       "    .dataframe tbody tr th {\n",
       "        vertical-align: top;\n",
       "    }\n",
       "\n",
       "    .dataframe thead th {\n",
       "        text-align: right;\n",
       "    }\n",
       "</style>\n",
       "<table border=\"1\" class=\"dataframe\">\n",
       "  <thead>\n",
       "    <tr style=\"text-align: right;\">\n",
       "      <th></th>\n",
       "      <th>Category</th>\n",
       "      <th>Sub-Category</th>\n",
       "      <th>Skills</th>\n",
       "    </tr>\n",
       "  </thead>\n",
       "  <tbody>\n",
       "    <tr>\n",
       "      <th>0</th>\n",
       "      <td>Data Science</td>\n",
       "      <td>Machine Learning</td>\n",
       "      <td>Decision Trees, Artificial Neural Network, Log...</td>\n",
       "    </tr>\n",
       "    <tr>\n",
       "      <th>1</th>\n",
       "      <td>Data Science</td>\n",
       "      <td>Data Analysis</td>\n",
       "      <td>Data Science, Relational Database Management S...</td>\n",
       "    </tr>\n",
       "    <tr>\n",
       "      <th>2</th>\n",
       "      <td>Data Science</td>\n",
       "      <td>Data Analysis</td>\n",
       "      <td>Data Science, Github, Python Programming, Jupy...</td>\n",
       "    </tr>\n",
       "    <tr>\n",
       "      <th>3</th>\n",
       "      <td>Business</td>\n",
       "      <td>Business Essentials</td>\n",
       "      <td>Data Science, Artificial Intelligence (AI), Bu...</td>\n",
       "    </tr>\n",
       "    <tr>\n",
       "      <th>4</th>\n",
       "      <td>Data Science</td>\n",
       "      <td>Machine Learning</td>\n",
       "      <td>Artificial Neural Network, Convolutional Neura...</td>\n",
       "    </tr>\n",
       "  </tbody>\n",
       "</table>\n",
       "</div>"
      ],
      "text/plain": [
       "       Category         Sub-Category  \\\n",
       "0  Data Science     Machine Learning   \n",
       "1  Data Science        Data Analysis   \n",
       "2  Data Science        Data Analysis   \n",
       "3      Business  Business Essentials   \n",
       "4  Data Science     Machine Learning   \n",
       "\n",
       "                                              Skills  \n",
       "0  Decision Trees, Artificial Neural Network, Log...  \n",
       "1  Data Science, Relational Database Management S...  \n",
       "2  Data Science, Github, Python Programming, Jupy...  \n",
       "3  Data Science, Artificial Intelligence (AI), Bu...  \n",
       "4  Artificial Neural Network, Convolutional Neura...  "
      ]
     },
     "execution_count": 3,
     "metadata": {},
     "output_type": "execute_result"
    }
   ],
   "source": [
    "df.head()"
   ]
  },
  {
   "cell_type": "code",
   "execution_count": 4,
   "id": "fc3a1402",
   "metadata": {},
   "outputs": [
    {
     "name": "stdout",
     "output_type": "stream",
     "text": [
      "<class 'pandas.core.frame.DataFrame'>\n",
      "RangeIndex: 8084 entries, 0 to 8083\n",
      "Data columns (total 3 columns):\n",
      " #   Column        Non-Null Count  Dtype \n",
      "---  ------        --------------  ----- \n",
      " 0   Category      2811 non-null   object\n",
      " 1   Sub-Category  2811 non-null   object\n",
      " 2   Skills        2912 non-null   object\n",
      "dtypes: object(3)\n",
      "memory usage: 189.6+ KB\n"
     ]
    }
   ],
   "source": [
    "df.info()"
   ]
  },
  {
   "cell_type": "code",
   "execution_count": 5,
   "id": "6c000340",
   "metadata": {},
   "outputs": [
    {
     "data": {
      "text/plain": [
       "Category        5273\n",
       "Sub-Category    5273\n",
       "Skills          5172\n",
       "dtype: int64"
      ]
     },
     "execution_count": 5,
     "metadata": {},
     "output_type": "execute_result"
    }
   ],
   "source": [
    "df.isnull().sum()"
   ]
  },
  {
   "cell_type": "code",
   "execution_count": 6,
   "id": "0c6dd9f6",
   "metadata": {},
   "outputs": [],
   "source": [
    "df.dropna(inplace=True)"
   ]
  },
  {
   "cell_type": "code",
   "execution_count": 7,
   "id": "ba45740f",
   "metadata": {},
   "outputs": [
    {
     "data": {
      "text/plain": [
       "(2811, 3)"
      ]
     },
     "execution_count": 7,
     "metadata": {},
     "output_type": "execute_result"
    }
   ],
   "source": [
    "df.shape"
   ]
  },
  {
   "cell_type": "code",
   "execution_count": 8,
   "id": "1c6af775",
   "metadata": {},
   "outputs": [],
   "source": [
    "df['Skills'] = df['Skills'].str.split(',').apply(lambda x: ','.join(x[:3]))"
   ]
  },
  {
   "cell_type": "code",
   "execution_count": 9,
   "id": "7e077c42",
   "metadata": {},
   "outputs": [
    {
     "data": {
      "text/html": [
       "<div>\n",
       "<style scoped>\n",
       "    .dataframe tbody tr th:only-of-type {\n",
       "        vertical-align: middle;\n",
       "    }\n",
       "\n",
       "    .dataframe tbody tr th {\n",
       "        vertical-align: top;\n",
       "    }\n",
       "\n",
       "    .dataframe thead th {\n",
       "        text-align: right;\n",
       "    }\n",
       "</style>\n",
       "<table border=\"1\" class=\"dataframe\">\n",
       "  <thead>\n",
       "    <tr style=\"text-align: right;\">\n",
       "      <th></th>\n",
       "      <th>Category</th>\n",
       "      <th>Sub-Category</th>\n",
       "      <th>Skills</th>\n",
       "    </tr>\n",
       "  </thead>\n",
       "  <tbody>\n",
       "    <tr>\n",
       "      <th>0</th>\n",
       "      <td>Data Science</td>\n",
       "      <td>Machine Learning</td>\n",
       "      <td>Decision Trees, Artificial Neural Network, Log...</td>\n",
       "    </tr>\n",
       "    <tr>\n",
       "      <th>1</th>\n",
       "      <td>Data Science</td>\n",
       "      <td>Data Analysis</td>\n",
       "      <td>Data Science, Relational Database Management S...</td>\n",
       "    </tr>\n",
       "    <tr>\n",
       "      <th>2</th>\n",
       "      <td>Data Science</td>\n",
       "      <td>Data Analysis</td>\n",
       "      <td>Data Science, Github, Python Programming</td>\n",
       "    </tr>\n",
       "    <tr>\n",
       "      <th>3</th>\n",
       "      <td>Business</td>\n",
       "      <td>Business Essentials</td>\n",
       "      <td>Data Science, Artificial Intelligence (AI), Bu...</td>\n",
       "    </tr>\n",
       "    <tr>\n",
       "      <th>4</th>\n",
       "      <td>Data Science</td>\n",
       "      <td>Machine Learning</td>\n",
       "      <td>Artificial Neural Network, Convolutional Neura...</td>\n",
       "    </tr>\n",
       "  </tbody>\n",
       "</table>\n",
       "</div>"
      ],
      "text/plain": [
       "       Category         Sub-Category  \\\n",
       "0  Data Science     Machine Learning   \n",
       "1  Data Science        Data Analysis   \n",
       "2  Data Science        Data Analysis   \n",
       "3      Business  Business Essentials   \n",
       "4  Data Science     Machine Learning   \n",
       "\n",
       "                                              Skills  \n",
       "0  Decision Trees, Artificial Neural Network, Log...  \n",
       "1  Data Science, Relational Database Management S...  \n",
       "2           Data Science, Github, Python Programming  \n",
       "3  Data Science, Artificial Intelligence (AI), Bu...  \n",
       "4  Artificial Neural Network, Convolutional Neura...  "
      ]
     },
     "execution_count": 9,
     "metadata": {},
     "output_type": "execute_result"
    }
   ],
   "source": [
    "df.head()"
   ]
  },
  {
   "cell_type": "code",
   "execution_count": 10,
   "id": "9c5b98cf",
   "metadata": {},
   "outputs": [
    {
     "name": "stdout",
     "output_type": "stream",
     "text": [
      "Website Wireframe, strategy, User Interface Design (UI Design)\n"
     ]
    }
   ],
   "source": [
    "# Assuming df is your DataFrame containing the dataset\n",
    "first_row_skills = df.loc[65, 'Skills']\n",
    "print(first_row_skills)"
   ]
  },
  {
   "cell_type": "code",
   "execution_count": 11,
   "id": "f661c0d6",
   "metadata": {},
   "outputs": [],
   "source": [
    "import pandas as pd\n",
    "from sklearn.preprocessing import MultiLabelBinarizer\n",
    "from sklearn.neighbors import KNeighborsClassifier\n"
   ]
  },
  {
   "cell_type": "code",
   "execution_count": 12,
   "id": "05b05453",
   "metadata": {},
   "outputs": [],
   "source": [
    "df['Skills'] = df['Skills'].fillna('')\n",
    "\n",
    "\n",
    "# Apply one-hot encoding to the 'Skills' column\n",
    "mlb = MultiLabelBinarizer()\n",
    "skills_encoded = pd.DataFrame(mlb.fit_transform(df['Skills'].str.split(',')), columns=mlb.classes_)\n",
    "\n",
    "# Concatenate the encoded skills with the original DataFrame\n",
    "df_encoded = pd.concat([df[['Category', 'Sub-Category']], skills_encoded], axis=1)"
   ]
  },
  {
   "cell_type": "code",
   "execution_count": 13,
   "id": "155d2805",
   "metadata": {},
   "outputs": [
    {
     "data": {
      "text/plain": [
       "KNeighborsClassifier()"
      ]
     },
     "execution_count": 13,
     "metadata": {},
     "output_type": "execute_result"
    }
   ],
   "source": [
    "# Define features (X) and target variable (y)\n",
    "X = df_encoded.drop(['Category', 'Sub-Category'], axis=1)\n",
    "y = df_encoded[['Category', 'Sub-Category']]  # Concatenate category and subcategory\n",
    "\n",
    "# Initialize and train the KNN model\n",
    "knn_model = KNeighborsClassifier(n_neighbors=5)  # You can adjust the number of neighbors (K)\n",
    "knn_model.fit(X, y)\n"
   ]
  },
  {
   "cell_type": "code",
   "execution_count": 20,
   "id": "3a715553",
   "metadata": {},
   "outputs": [
    {
     "name": "stdout",
     "output_type": "stream",
     "text": [
      "['Website Wireframe', 'strategy', 'User Interface Design (UI Design)']\n",
      "Predicted Category: Arts and Humanities\n",
      "Predicted Subcategory: Music and Art\n"
     ]
    },
    {
     "name": "stderr",
     "output_type": "stream",
     "text": [
      "C:\\Users\\msbha\\anaconda3\\lib\\site-packages\\sklearn\\base.py:450: UserWarning: X does not have valid feature names, but KNeighborsClassifier was fitted with feature names\n",
      "  warnings.warn(\n",
      "C:\\Users\\msbha\\anaconda3\\lib\\site-packages\\sklearn\\neighbors\\_classification.py:228: FutureWarning: Unlike other reduction functions (e.g. `skew`, `kurtosis`), the default behavior of `mode` typically preserves the axis it acts along. In SciPy 1.11.0, this behavior will change: the default value of `keepdims` will become False, the `axis` over which the statistic is taken will be eliminated, and the value None will no longer be accepted. Set `keepdims` to True or False to avoid this warning.\n",
      "  mode, _ = stats.mode(_y[neigh_ind, k], axis=1)\n"
     ]
    }
   ],
   "source": [
    "def predict_category(input_skills):\n",
    "    # Preprocess input skills\n",
    "    input_skills = input_skills.split(',')\n",
    "    print(input_skills)\n",
    "    # Apply one-hot encoding to input skills\n",
    "    input_skills_encoded = mlb.transform([input_skills])\n",
    "    \n",
    "    # Make prediction using the trained model\n",
    "    predicted_category_subcategory = knn_model.predict(input_skills_encoded)\n",
    "    \n",
    "    return predicted_category_subcategory[0]\n",
    "\n",
    "# Example usage:\n",
    "input_skills = 'Website Wireframe,strategy,User Interface Design (UI Design)'\n",
    "predicted_category_subcategory = predict_category(input_skills)\n",
    "print(\"Predicted Category:\", predicted_category_subcategory[0])\n",
    "print(\"Predicted Subcategory:\", predicted_category_subcategory[1])\n"
   ]
  },
  {
   "cell_type": "code",
   "execution_count": 24,
   "id": "55774bb7",
   "metadata": {},
   "outputs": [
    {
     "name": "stdout",
     "output_type": "stream",
     "text": [
      "Enter your first skill: Website Wireframe\n",
      "Enter your second skill: strategy\n",
      "Enter your third skill: User Interface Design (UI Design)\n",
      "Predicted Category: ['Arts and Humanities' 'Music and Art']\n",
      "Predicted Subcategory: Music and Art\n"
     ]
    },
    {
     "name": "stderr",
     "output_type": "stream",
     "text": [
      "C:\\Users\\msbha\\anaconda3\\lib\\site-packages\\sklearn\\base.py:450: UserWarning: X does not have valid feature names, but KNeighborsClassifier was fitted with feature names\n",
      "  warnings.warn(\n",
      "C:\\Users\\msbha\\anaconda3\\lib\\site-packages\\sklearn\\neighbors\\_classification.py:228: FutureWarning: Unlike other reduction functions (e.g. `skew`, `kurtosis`), the default behavior of `mode` typically preserves the axis it acts along. In SciPy 1.11.0, this behavior will change: the default value of `keepdims` will become False, the `axis` over which the statistic is taken will be eliminated, and the value None will no longer be accepted. Set `keepdims` to True or False to avoid this warning.\n",
      "  mode, _ = stats.mode(_y[neigh_ind, k], axis=1)\n"
     ]
    }
   ],
   "source": [
    "def predict_category_from_skills():\n",
    "    # Initialize an empty list to store the user's input skills\n",
    "    input_skills = []\n",
    "    \n",
    "    # Prompt the user to enter the first skill\n",
    "    skill1 = input(\"Enter your first skill: \")\n",
    "    input_skills.append(skill1)\n",
    "    \n",
    "    # Prompt the user to enter the second skill\n",
    "    skill2 = input(\"Enter your second skill: \")\n",
    "    input_skills.append(skill2)\n",
    "    \n",
    "    # Prompt the user to enter the third skill\n",
    "    skill3 = input(\"Enter your third skill: \")\n",
    "    input_skills.append(skill3)\n",
    "    \n",
    "    # Convert the list of skills to a single string separated by commas\n",
    "#     input_skills_str = ','.join(input_skills)\n",
    "#     print(input_skills_str)\n",
    "#     input_skills = input_skills.split(',')\n",
    "    # Apply one-hot encoding to input skills\n",
    "    try:\n",
    "        input_skills_encoded = mlb.transform([input_skills])\n",
    "    except ValueError as e:\n",
    "        print(\"Error:\", e)\n",
    "        return\n",
    "    \n",
    "    # Make prediction using the trained model\n",
    "    predicted_category_subcategory = knn_model.predict(input_skills_encoded)\n",
    "    \n",
    "    # Print the predicted category\n",
    "    print(\"Predicted Category:\", predicted_category_subcategory[0])\n",
    "    \n",
    "    # If the model predicts both category and subcategory, print the subcategory as well\n",
    "    if predicted_category_subcategory.shape[1] > 1:\n",
    "        print(\"Predicted Subcategory:\", predicted_category_subcategory[0][1])\n",
    "    else:\n",
    "        print(\"Subcategory prediction not available.\")\n",
    "\n",
    "# Call the function to make a prediction based on user input\n",
    "predict_category_from_skills()\n"
   ]
  },
  {
   "cell_type": "code",
   "execution_count": null,
   "id": "29b3e09f",
   "metadata": {},
   "outputs": [],
   "source": []
  }
 ],
 "metadata": {
  "kernelspec": {
   "display_name": "Python 3 (ipykernel)",
   "language": "python",
   "name": "python3"
  },
  "language_info": {
   "codemirror_mode": {
    "name": "ipython",
    "version": 3
   },
   "file_extension": ".py",
   "mimetype": "text/x-python",
   "name": "python",
   "nbconvert_exporter": "python",
   "pygments_lexer": "ipython3",
   "version": "3.9.13"
  }
 },
 "nbformat": 4,
 "nbformat_minor": 5
}
