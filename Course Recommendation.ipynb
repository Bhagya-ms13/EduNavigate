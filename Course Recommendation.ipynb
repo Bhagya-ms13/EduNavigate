{
 "cells": [
  {
   "cell_type": "code",
   "execution_count": 72,
   "id": "183ce688",
   "metadata": {},
   "outputs": [],
   "source": [
    "import numpy as np\n",
    "import pandas as pd"
   ]
  },
  {
   "cell_type": "code",
   "execution_count": 22,
   "id": "2a0ec45e",
   "metadata": {},
   "outputs": [],
   "source": [
    "courses = pd.read_csv('course.csv', encoding='latin1')\n"
   ]
  },
  {
   "cell_type": "code",
   "execution_count": 23,
   "id": "66952d5d",
   "metadata": {},
   "outputs": [
    {
     "data": {
      "text/html": [
       "<div>\n",
       "<style scoped>\n",
       "    .dataframe tbody tr th:only-of-type {\n",
       "        vertical-align: middle;\n",
       "    }\n",
       "\n",
       "    .dataframe tbody tr th {\n",
       "        vertical-align: top;\n",
       "    }\n",
       "\n",
       "    .dataframe thead th {\n",
       "        text-align: right;\n",
       "    }\n",
       "</style>\n",
       "<table border=\"1\" class=\"dataframe\">\n",
       "  <thead>\n",
       "    <tr style=\"text-align: right;\">\n",
       "      <th></th>\n",
       "      <th>Unnamed: 0</th>\n",
       "      <th>Title</th>\n",
       "      <th>URL</th>\n",
       "      <th>Short Intro</th>\n",
       "      <th>Category</th>\n",
       "      <th>Sub-Category</th>\n",
       "      <th>Course Type</th>\n",
       "      <th>Language</th>\n",
       "      <th>Subtitle Languages</th>\n",
       "      <th>Skills</th>\n",
       "      <th>...</th>\n",
       "      <th>Course Short Intro</th>\n",
       "      <th>Weekly study</th>\n",
       "      <th>Premium course</th>\n",
       "      <th>What's include</th>\n",
       "      <th>Rank</th>\n",
       "      <th>Created by</th>\n",
       "      <th>Program</th>\n",
       "      <th>Number of ratings</th>\n",
       "      <th>Price</th>\n",
       "      <th>COURSE CATEGORIES</th>\n",
       "    </tr>\n",
       "  </thead>\n",
       "  <tbody>\n",
       "    <tr>\n",
       "      <th>0</th>\n",
       "      <td>0</td>\n",
       "      <td>Machine Learning Specialization</td>\n",
       "      <td>https://www.coursera.org/specializations/machi...</td>\n",
       "      <td>#BreakIntoAI with Machine Learning Specializat...</td>\n",
       "      <td>Data Science</td>\n",
       "      <td>Machine Learning</td>\n",
       "      <td>Specialization</td>\n",
       "      <td>English</td>\n",
       "      <td>Subtitles: English</td>\n",
       "      <td>Decision Trees, Artificial Neural Network, Log...</td>\n",
       "      <td>...</td>\n",
       "      <td>NaN</td>\n",
       "      <td>NaN</td>\n",
       "      <td>NaN</td>\n",
       "      <td>NaN</td>\n",
       "      <td>NaN</td>\n",
       "      <td>NaN</td>\n",
       "      <td>NaN</td>\n",
       "      <td>NaN</td>\n",
       "      <td>NaN</td>\n",
       "      <td>NaN</td>\n",
       "    </tr>\n",
       "    <tr>\n",
       "      <th>1</th>\n",
       "      <td>1</td>\n",
       "      <td>Introduction to Data Science Specialization</td>\n",
       "      <td>https://www.coursera.org/specializations/intro...</td>\n",
       "      <td>Launch your career in data science. Gain found...</td>\n",
       "      <td>Data Science</td>\n",
       "      <td>Data Analysis</td>\n",
       "      <td>Specialization</td>\n",
       "      <td>English</td>\n",
       "      <td>Subtitles: English, Arabic, French, Portuguese...</td>\n",
       "      <td>Data Science, Relational Database Management S...</td>\n",
       "      <td>...</td>\n",
       "      <td>NaN</td>\n",
       "      <td>NaN</td>\n",
       "      <td>NaN</td>\n",
       "      <td>NaN</td>\n",
       "      <td>NaN</td>\n",
       "      <td>NaN</td>\n",
       "      <td>NaN</td>\n",
       "      <td>NaN</td>\n",
       "      <td>NaN</td>\n",
       "      <td>NaN</td>\n",
       "    </tr>\n",
       "    <tr>\n",
       "      <th>2</th>\n",
       "      <td>2</td>\n",
       "      <td>Data Science Fundamentals with Python and SQL ...</td>\n",
       "      <td>https://www.coursera.org/specializations/data-...</td>\n",
       "      <td>Build the Foundation for your Data Science car...</td>\n",
       "      <td>Data Science</td>\n",
       "      <td>Data Analysis</td>\n",
       "      <td>Specialization</td>\n",
       "      <td>English</td>\n",
       "      <td>Subtitles: English, Arabic, French, Portuguese...</td>\n",
       "      <td>Data Science, Github, Python Programming, Jupy...</td>\n",
       "      <td>...</td>\n",
       "      <td>NaN</td>\n",
       "      <td>NaN</td>\n",
       "      <td>NaN</td>\n",
       "      <td>NaN</td>\n",
       "      <td>NaN</td>\n",
       "      <td>NaN</td>\n",
       "      <td>NaN</td>\n",
       "      <td>NaN</td>\n",
       "      <td>NaN</td>\n",
       "      <td>NaN</td>\n",
       "    </tr>\n",
       "    <tr>\n",
       "      <th>3</th>\n",
       "      <td>3</td>\n",
       "      <td>Key Technologies for Business Specialization</td>\n",
       "      <td>https://www.coursera.org/specializations/key-t...</td>\n",
       "      <td>Get Ahead with Key Business Technologies. Gain...</td>\n",
       "      <td>Business</td>\n",
       "      <td>Business Essentials</td>\n",
       "      <td>Specialization</td>\n",
       "      <td>English</td>\n",
       "      <td>Subtitles: English, Arabic, French, Portuguese...</td>\n",
       "      <td>Data Science, Artificial Intelligence (AI), Bu...</td>\n",
       "      <td>...</td>\n",
       "      <td>NaN</td>\n",
       "      <td>NaN</td>\n",
       "      <td>NaN</td>\n",
       "      <td>NaN</td>\n",
       "      <td>NaN</td>\n",
       "      <td>NaN</td>\n",
       "      <td>NaN</td>\n",
       "      <td>NaN</td>\n",
       "      <td>NaN</td>\n",
       "      <td>NaN</td>\n",
       "    </tr>\n",
       "    <tr>\n",
       "      <th>4</th>\n",
       "      <td>4</td>\n",
       "      <td>Deep Learning Specialization</td>\n",
       "      <td>https://www.coursera.org/specializations/deep-...</td>\n",
       "      <td>Become a Machine Learning expert. Master the f...</td>\n",
       "      <td>Data Science</td>\n",
       "      <td>Machine Learning</td>\n",
       "      <td>Specialization</td>\n",
       "      <td>English</td>\n",
       "      <td>Subtitles: English, Chinese (Traditional), Ara...</td>\n",
       "      <td>Artificial Neural Network, Convolutional Neura...</td>\n",
       "      <td>...</td>\n",
       "      <td>NaN</td>\n",
       "      <td>NaN</td>\n",
       "      <td>NaN</td>\n",
       "      <td>NaN</td>\n",
       "      <td>NaN</td>\n",
       "      <td>NaN</td>\n",
       "      <td>NaN</td>\n",
       "      <td>NaN</td>\n",
       "      <td>NaN</td>\n",
       "      <td>NaN</td>\n",
       "    </tr>\n",
       "  </tbody>\n",
       "</table>\n",
       "<p>5 rows × 45 columns</p>\n",
       "</div>"
      ],
      "text/plain": [
       "  Unnamed: 0                                              Title  \\\n",
       "0          0                    Machine Learning Specialization   \n",
       "1          1        Introduction to Data Science Specialization   \n",
       "2          2  Data Science Fundamentals with Python and SQL ...   \n",
       "3          3       Key Technologies for Business Specialization   \n",
       "4          4                       Deep Learning Specialization   \n",
       "\n",
       "                                                 URL  \\\n",
       "0  https://www.coursera.org/specializations/machi...   \n",
       "1  https://www.coursera.org/specializations/intro...   \n",
       "2  https://www.coursera.org/specializations/data-...   \n",
       "3  https://www.coursera.org/specializations/key-t...   \n",
       "4  https://www.coursera.org/specializations/deep-...   \n",
       "\n",
       "                                         Short Intro      Category  \\\n",
       "0  #BreakIntoAI with Machine Learning Specializat...  Data Science   \n",
       "1  Launch your career in data science. Gain found...  Data Science   \n",
       "2  Build the Foundation for your Data Science car...  Data Science   \n",
       "3  Get Ahead with Key Business Technologies. Gain...      Business   \n",
       "4  Become a Machine Learning expert. Master the f...  Data Science   \n",
       "\n",
       "          Sub-Category     Course Type Language  \\\n",
       "0     Machine Learning  Specialization  English   \n",
       "1        Data Analysis  Specialization  English   \n",
       "2        Data Analysis  Specialization  English   \n",
       "3  Business Essentials  Specialization  English   \n",
       "4     Machine Learning  Specialization  English   \n",
       "\n",
       "                                  Subtitle Languages  \\\n",
       "0                                 Subtitles: English   \n",
       "1  Subtitles: English, Arabic, French, Portuguese...   \n",
       "2  Subtitles: English, Arabic, French, Portuguese...   \n",
       "3  Subtitles: English, Arabic, French, Portuguese...   \n",
       "4  Subtitles: English, Chinese (Traditional), Ara...   \n",
       "\n",
       "                                              Skills  ... Course Short Intro  \\\n",
       "0  Decision Trees, Artificial Neural Network, Log...  ...                NaN   \n",
       "1  Data Science, Relational Database Management S...  ...                NaN   \n",
       "2  Data Science, Github, Python Programming, Jupy...  ...                NaN   \n",
       "3  Data Science, Artificial Intelligence (AI), Bu...  ...                NaN   \n",
       "4  Artificial Neural Network, Convolutional Neura...  ...                NaN   \n",
       "\n",
       "  Weekly study Premium course What's include Rank Created by Program  \\\n",
       "0          NaN            NaN            NaN  NaN        NaN     NaN   \n",
       "1          NaN            NaN            NaN  NaN        NaN     NaN   \n",
       "2          NaN            NaN            NaN  NaN        NaN     NaN   \n",
       "3          NaN            NaN            NaN  NaN        NaN     NaN   \n",
       "4          NaN            NaN            NaN  NaN        NaN     NaN   \n",
       "\n",
       "  Number of ratings Price  COURSE CATEGORIES  \n",
       "0               NaN   NaN                NaN  \n",
       "1               NaN   NaN                NaN  \n",
       "2               NaN   NaN                NaN  \n",
       "3               NaN   NaN                NaN  \n",
       "4               NaN   NaN                NaN  \n",
       "\n",
       "[5 rows x 45 columns]"
      ]
     },
     "execution_count": 23,
     "metadata": {},
     "output_type": "execute_result"
    }
   ],
   "source": [
    "courses.head()"
   ]
  },
  {
   "cell_type": "code",
   "execution_count": 24,
   "id": "a26ccd21",
   "metadata": {},
   "outputs": [],
   "source": [
    "courses = courses[['Category','Sub-Category','Skills']]"
   ]
  },
  {
   "cell_type": "code",
   "execution_count": 25,
   "id": "20922748",
   "metadata": {},
   "outputs": [
    {
     "data": {
      "text/html": [
       "<div>\n",
       "<style scoped>\n",
       "    .dataframe tbody tr th:only-of-type {\n",
       "        vertical-align: middle;\n",
       "    }\n",
       "\n",
       "    .dataframe tbody tr th {\n",
       "        vertical-align: top;\n",
       "    }\n",
       "\n",
       "    .dataframe thead th {\n",
       "        text-align: right;\n",
       "    }\n",
       "</style>\n",
       "<table border=\"1\" class=\"dataframe\">\n",
       "  <thead>\n",
       "    <tr style=\"text-align: right;\">\n",
       "      <th></th>\n",
       "      <th>Category</th>\n",
       "      <th>Sub-Category</th>\n",
       "      <th>Skills</th>\n",
       "    </tr>\n",
       "  </thead>\n",
       "  <tbody>\n",
       "    <tr>\n",
       "      <th>0</th>\n",
       "      <td>Data Science</td>\n",
       "      <td>Machine Learning</td>\n",
       "      <td>Decision Trees, Artificial Neural Network, Log...</td>\n",
       "    </tr>\n",
       "    <tr>\n",
       "      <th>1</th>\n",
       "      <td>Data Science</td>\n",
       "      <td>Data Analysis</td>\n",
       "      <td>Data Science, Relational Database Management S...</td>\n",
       "    </tr>\n",
       "    <tr>\n",
       "      <th>2</th>\n",
       "      <td>Data Science</td>\n",
       "      <td>Data Analysis</td>\n",
       "      <td>Data Science, Github, Python Programming, Jupy...</td>\n",
       "    </tr>\n",
       "    <tr>\n",
       "      <th>3</th>\n",
       "      <td>Business</td>\n",
       "      <td>Business Essentials</td>\n",
       "      <td>Data Science, Artificial Intelligence (AI), Bu...</td>\n",
       "    </tr>\n",
       "    <tr>\n",
       "      <th>4</th>\n",
       "      <td>Data Science</td>\n",
       "      <td>Machine Learning</td>\n",
       "      <td>Artificial Neural Network, Convolutional Neura...</td>\n",
       "    </tr>\n",
       "  </tbody>\n",
       "</table>\n",
       "</div>"
      ],
      "text/plain": [
       "       Category         Sub-Category  \\\n",
       "0  Data Science     Machine Learning   \n",
       "1  Data Science        Data Analysis   \n",
       "2  Data Science        Data Analysis   \n",
       "3      Business  Business Essentials   \n",
       "4  Data Science     Machine Learning   \n",
       "\n",
       "                                              Skills  \n",
       "0  Decision Trees, Artificial Neural Network, Log...  \n",
       "1  Data Science, Relational Database Management S...  \n",
       "2  Data Science, Github, Python Programming, Jupy...  \n",
       "3  Data Science, Artificial Intelligence (AI), Bu...  \n",
       "4  Artificial Neural Network, Convolutional Neura...  "
      ]
     },
     "execution_count": 25,
     "metadata": {},
     "output_type": "execute_result"
    }
   ],
   "source": [
    "courses.head()"
   ]
  },
  {
   "cell_type": "code",
   "execution_count": 26,
   "id": "853c2618",
   "metadata": {},
   "outputs": [
    {
     "name": "stdout",
     "output_type": "stream",
     "text": [
      "<class 'pandas.core.frame.DataFrame'>\n",
      "RangeIndex: 8084 entries, 0 to 8083\n",
      "Data columns (total 3 columns):\n",
      " #   Column        Non-Null Count  Dtype \n",
      "---  ------        --------------  ----- \n",
      " 0   Category      2811 non-null   object\n",
      " 1   Sub-Category  2811 non-null   object\n",
      " 2   Skills        2912 non-null   object\n",
      "dtypes: object(3)\n",
      "memory usage: 189.6+ KB\n"
     ]
    }
   ],
   "source": [
    "courses.info()\n"
   ]
  },
  {
   "cell_type": "code",
   "execution_count": 29,
   "id": "f9011421",
   "metadata": {},
   "outputs": [
    {
     "data": {
      "text/plain": [
       "Category        0\n",
       "Sub-Category    0\n",
       "Skills          0\n",
       "dtype: int64"
      ]
     },
     "execution_count": 29,
     "metadata": {},
     "output_type": "execute_result"
    }
   ],
   "source": [
    "courses.isnull().sum()"
   ]
  },
  {
   "cell_type": "code",
   "execution_count": 28,
   "id": "dca8d59a",
   "metadata": {},
   "outputs": [],
   "source": [
    "courses.dropna(inplace=True)\n"
   ]
  },
  {
   "cell_type": "code",
   "execution_count": 30,
   "id": "92f6a3f9",
   "metadata": {},
   "outputs": [
    {
     "data": {
      "text/html": [
       "<div>\n",
       "<style scoped>\n",
       "    .dataframe tbody tr th:only-of-type {\n",
       "        vertical-align: middle;\n",
       "    }\n",
       "\n",
       "    .dataframe tbody tr th {\n",
       "        vertical-align: top;\n",
       "    }\n",
       "\n",
       "    .dataframe thead th {\n",
       "        text-align: right;\n",
       "    }\n",
       "</style>\n",
       "<table border=\"1\" class=\"dataframe\">\n",
       "  <thead>\n",
       "    <tr style=\"text-align: right;\">\n",
       "      <th></th>\n",
       "      <th>Category</th>\n",
       "      <th>Sub-Category</th>\n",
       "      <th>Skills</th>\n",
       "    </tr>\n",
       "  </thead>\n",
       "  <tbody>\n",
       "    <tr>\n",
       "      <th>0</th>\n",
       "      <td>Data Science</td>\n",
       "      <td>Machine Learning</td>\n",
       "      <td>Decision Trees, Artificial Neural Network, Log...</td>\n",
       "    </tr>\n",
       "    <tr>\n",
       "      <th>1</th>\n",
       "      <td>Data Science</td>\n",
       "      <td>Data Analysis</td>\n",
       "      <td>Data Science, Relational Database Management S...</td>\n",
       "    </tr>\n",
       "    <tr>\n",
       "      <th>2</th>\n",
       "      <td>Data Science</td>\n",
       "      <td>Data Analysis</td>\n",
       "      <td>Data Science, Github, Python Programming, Jupy...</td>\n",
       "    </tr>\n",
       "    <tr>\n",
       "      <th>3</th>\n",
       "      <td>Business</td>\n",
       "      <td>Business Essentials</td>\n",
       "      <td>Data Science, Artificial Intelligence (AI), Bu...</td>\n",
       "    </tr>\n",
       "    <tr>\n",
       "      <th>4</th>\n",
       "      <td>Data Science</td>\n",
       "      <td>Machine Learning</td>\n",
       "      <td>Artificial Neural Network, Convolutional Neura...</td>\n",
       "    </tr>\n",
       "  </tbody>\n",
       "</table>\n",
       "</div>"
      ],
      "text/plain": [
       "       Category         Sub-Category  \\\n",
       "0  Data Science     Machine Learning   \n",
       "1  Data Science        Data Analysis   \n",
       "2  Data Science        Data Analysis   \n",
       "3      Business  Business Essentials   \n",
       "4  Data Science     Machine Learning   \n",
       "\n",
       "                                              Skills  \n",
       "0  Decision Trees, Artificial Neural Network, Log...  \n",
       "1  Data Science, Relational Database Management S...  \n",
       "2  Data Science, Github, Python Programming, Jupy...  \n",
       "3  Data Science, Artificial Intelligence (AI), Bu...  \n",
       "4  Artificial Neural Network, Convolutional Neura...  "
      ]
     },
     "execution_count": 30,
     "metadata": {},
     "output_type": "execute_result"
    }
   ],
   "source": [
    "courses.head()"
   ]
  },
  {
   "cell_type": "code",
   "execution_count": 31,
   "id": "ed6cba81",
   "metadata": {},
   "outputs": [
    {
     "data": {
      "text/plain": [
       "(2811, 3)"
      ]
     },
     "execution_count": 31,
     "metadata": {},
     "output_type": "execute_result"
    }
   ],
   "source": [
    "courses.shape"
   ]
  },
  {
   "cell_type": "code",
   "execution_count": 32,
   "id": "2d2f7e1c",
   "metadata": {},
   "outputs": [],
   "source": [
    "skills_split = courses['Skills'].str.split(',', expand=True)"
   ]
  },
  {
   "cell_type": "code",
   "execution_count": 43,
   "id": "902b2e5e",
   "metadata": {},
   "outputs": [],
   "source": [
    "skills_split.dropna(axis=1, how='any', inplace=True)\n"
   ]
  },
  {
   "cell_type": "code",
   "execution_count": 45,
   "id": "3805e4eb",
   "metadata": {},
   "outputs": [
    {
     "data": {
      "text/plain": [
       "(2811, 3)"
      ]
     },
     "execution_count": 45,
     "metadata": {},
     "output_type": "execute_result"
    }
   ],
   "source": [
    "skills_split.shape"
   ]
  },
  {
   "cell_type": "code",
   "execution_count": 46,
   "id": "f38766e7",
   "metadata": {},
   "outputs": [],
   "source": [
    "for i in range(skills_split.shape[1]):\n",
    "    skills_split.rename(columns={i: f\"skill{i+1}\"}, inplace=True)"
   ]
  },
  {
   "cell_type": "code",
   "execution_count": 47,
   "id": "758d6302",
   "metadata": {},
   "outputs": [],
   "source": [
    "courses = pd.concat([courses, skills_split], axis=1)"
   ]
  },
  {
   "cell_type": "code",
   "execution_count": 48,
   "id": "9d6786d4",
   "metadata": {},
   "outputs": [
    {
     "data": {
      "text/html": [
       "<div>\n",
       "<style scoped>\n",
       "    .dataframe tbody tr th:only-of-type {\n",
       "        vertical-align: middle;\n",
       "    }\n",
       "\n",
       "    .dataframe tbody tr th {\n",
       "        vertical-align: top;\n",
       "    }\n",
       "\n",
       "    .dataframe thead th {\n",
       "        text-align: right;\n",
       "    }\n",
       "</style>\n",
       "<table border=\"1\" class=\"dataframe\">\n",
       "  <thead>\n",
       "    <tr style=\"text-align: right;\">\n",
       "      <th></th>\n",
       "      <th>Category</th>\n",
       "      <th>Sub-Category</th>\n",
       "      <th>Skills</th>\n",
       "      <th>skill1</th>\n",
       "      <th>skill2</th>\n",
       "      <th>skill3</th>\n",
       "    </tr>\n",
       "  </thead>\n",
       "  <tbody>\n",
       "    <tr>\n",
       "      <th>0</th>\n",
       "      <td>Data Science</td>\n",
       "      <td>Machine Learning</td>\n",
       "      <td>Decision Trees, Artificial Neural Network, Log...</td>\n",
       "      <td>Decision Trees</td>\n",
       "      <td>Artificial Neural Network</td>\n",
       "      <td>Logistic Regression</td>\n",
       "    </tr>\n",
       "    <tr>\n",
       "      <th>1</th>\n",
       "      <td>Data Science</td>\n",
       "      <td>Data Analysis</td>\n",
       "      <td>Data Science, Relational Database Management S...</td>\n",
       "      <td>Data Science</td>\n",
       "      <td>Relational Database Management System (RDBMS)</td>\n",
       "      <td>Cloud Databases</td>\n",
       "    </tr>\n",
       "    <tr>\n",
       "      <th>2</th>\n",
       "      <td>Data Science</td>\n",
       "      <td>Data Analysis</td>\n",
       "      <td>Data Science, Github, Python Programming, Jupy...</td>\n",
       "      <td>Data Science</td>\n",
       "      <td>Github</td>\n",
       "      <td>Python Programming</td>\n",
       "    </tr>\n",
       "    <tr>\n",
       "      <th>3</th>\n",
       "      <td>Business</td>\n",
       "      <td>Business Essentials</td>\n",
       "      <td>Data Science, Artificial Intelligence (AI), Bu...</td>\n",
       "      <td>Data Science</td>\n",
       "      <td>Artificial Intelligence (AI)</td>\n",
       "      <td>Business</td>\n",
       "    </tr>\n",
       "    <tr>\n",
       "      <th>4</th>\n",
       "      <td>Data Science</td>\n",
       "      <td>Machine Learning</td>\n",
       "      <td>Artificial Neural Network, Convolutional Neura...</td>\n",
       "      <td>Artificial Neural Network</td>\n",
       "      <td>Convolutional Neural Network</td>\n",
       "      <td>Tensorflow</td>\n",
       "    </tr>\n",
       "  </tbody>\n",
       "</table>\n",
       "</div>"
      ],
      "text/plain": [
       "       Category         Sub-Category  \\\n",
       "0  Data Science     Machine Learning   \n",
       "1  Data Science        Data Analysis   \n",
       "2  Data Science        Data Analysis   \n",
       "3      Business  Business Essentials   \n",
       "4  Data Science     Machine Learning   \n",
       "\n",
       "                                              Skills  \\\n",
       "0  Decision Trees, Artificial Neural Network, Log...   \n",
       "1  Data Science, Relational Database Management S...   \n",
       "2  Data Science, Github, Python Programming, Jupy...   \n",
       "3  Data Science, Artificial Intelligence (AI), Bu...   \n",
       "4  Artificial Neural Network, Convolutional Neura...   \n",
       "\n",
       "                      skill1                                          skill2  \\\n",
       "0             Decision Trees                       Artificial Neural Network   \n",
       "1               Data Science   Relational Database Management System (RDBMS)   \n",
       "2               Data Science                                          Github   \n",
       "3               Data Science                    Artificial Intelligence (AI)   \n",
       "4  Artificial Neural Network                    Convolutional Neural Network   \n",
       "\n",
       "                 skill3  \n",
       "0   Logistic Regression  \n",
       "1       Cloud Databases  \n",
       "2    Python Programming  \n",
       "3              Business  \n",
       "4            Tensorflow  "
      ]
     },
     "execution_count": 48,
     "metadata": {},
     "output_type": "execute_result"
    }
   ],
   "source": [
    "courses.head()"
   ]
  },
  {
   "cell_type": "code",
   "execution_count": 49,
   "id": "c3c81a36",
   "metadata": {},
   "outputs": [],
   "source": [
    "courses.drop_duplicates(inplace=True)"
   ]
  },
  {
   "cell_type": "code",
   "execution_count": 50,
   "id": "78018a7b",
   "metadata": {},
   "outputs": [
    {
     "data": {
      "text/html": [
       "<div>\n",
       "<style scoped>\n",
       "    .dataframe tbody tr th:only-of-type {\n",
       "        vertical-align: middle;\n",
       "    }\n",
       "\n",
       "    .dataframe tbody tr th {\n",
       "        vertical-align: top;\n",
       "    }\n",
       "\n",
       "    .dataframe thead th {\n",
       "        text-align: right;\n",
       "    }\n",
       "</style>\n",
       "<table border=\"1\" class=\"dataframe\">\n",
       "  <thead>\n",
       "    <tr style=\"text-align: right;\">\n",
       "      <th></th>\n",
       "      <th>Category</th>\n",
       "      <th>Sub-Category</th>\n",
       "      <th>Skills</th>\n",
       "      <th>skill1</th>\n",
       "      <th>skill2</th>\n",
       "      <th>skill3</th>\n",
       "    </tr>\n",
       "  </thead>\n",
       "  <tbody>\n",
       "    <tr>\n",
       "      <th>0</th>\n",
       "      <td>Data Science</td>\n",
       "      <td>Machine Learning</td>\n",
       "      <td>Decision Trees, Artificial Neural Network, Log...</td>\n",
       "      <td>Decision Trees</td>\n",
       "      <td>Artificial Neural Network</td>\n",
       "      <td>Logistic Regression</td>\n",
       "    </tr>\n",
       "    <tr>\n",
       "      <th>1</th>\n",
       "      <td>Data Science</td>\n",
       "      <td>Data Analysis</td>\n",
       "      <td>Data Science, Relational Database Management S...</td>\n",
       "      <td>Data Science</td>\n",
       "      <td>Relational Database Management System (RDBMS)</td>\n",
       "      <td>Cloud Databases</td>\n",
       "    </tr>\n",
       "    <tr>\n",
       "      <th>2</th>\n",
       "      <td>Data Science</td>\n",
       "      <td>Data Analysis</td>\n",
       "      <td>Data Science, Github, Python Programming, Jupy...</td>\n",
       "      <td>Data Science</td>\n",
       "      <td>Github</td>\n",
       "      <td>Python Programming</td>\n",
       "    </tr>\n",
       "    <tr>\n",
       "      <th>3</th>\n",
       "      <td>Business</td>\n",
       "      <td>Business Essentials</td>\n",
       "      <td>Data Science, Artificial Intelligence (AI), Bu...</td>\n",
       "      <td>Data Science</td>\n",
       "      <td>Artificial Intelligence (AI)</td>\n",
       "      <td>Business</td>\n",
       "    </tr>\n",
       "    <tr>\n",
       "      <th>4</th>\n",
       "      <td>Data Science</td>\n",
       "      <td>Machine Learning</td>\n",
       "      <td>Artificial Neural Network, Convolutional Neura...</td>\n",
       "      <td>Artificial Neural Network</td>\n",
       "      <td>Convolutional Neural Network</td>\n",
       "      <td>Tensorflow</td>\n",
       "    </tr>\n",
       "  </tbody>\n",
       "</table>\n",
       "</div>"
      ],
      "text/plain": [
       "       Category         Sub-Category  \\\n",
       "0  Data Science     Machine Learning   \n",
       "1  Data Science        Data Analysis   \n",
       "2  Data Science        Data Analysis   \n",
       "3      Business  Business Essentials   \n",
       "4  Data Science     Machine Learning   \n",
       "\n",
       "                                              Skills  \\\n",
       "0  Decision Trees, Artificial Neural Network, Log...   \n",
       "1  Data Science, Relational Database Management S...   \n",
       "2  Data Science, Github, Python Programming, Jupy...   \n",
       "3  Data Science, Artificial Intelligence (AI), Bu...   \n",
       "4  Artificial Neural Network, Convolutional Neura...   \n",
       "\n",
       "                      skill1                                          skill2  \\\n",
       "0             Decision Trees                       Artificial Neural Network   \n",
       "1               Data Science   Relational Database Management System (RDBMS)   \n",
       "2               Data Science                                          Github   \n",
       "3               Data Science                    Artificial Intelligence (AI)   \n",
       "4  Artificial Neural Network                    Convolutional Neural Network   \n",
       "\n",
       "                 skill3  \n",
       "0   Logistic Regression  \n",
       "1       Cloud Databases  \n",
       "2    Python Programming  \n",
       "3              Business  \n",
       "4            Tensorflow  "
      ]
     },
     "execution_count": 50,
     "metadata": {},
     "output_type": "execute_result"
    }
   ],
   "source": [
    "courses.head()"
   ]
  },
  {
   "cell_type": "code",
   "execution_count": 52,
   "id": "80cb5f97",
   "metadata": {},
   "outputs": [
    {
     "data": {
      "text/plain": [
       "(1724, 6)"
      ]
     },
     "execution_count": 52,
     "metadata": {},
     "output_type": "execute_result"
    }
   ],
   "source": [
    "courses.shape"
   ]
  },
  {
   "cell_type": "code",
   "execution_count": 53,
   "id": "c341d881",
   "metadata": {},
   "outputs": [
    {
     "name": "stdout",
     "output_type": "stream",
     "text": [
      "Enter skill 1: Decision Trees\n",
      "Enter skill 2: Artificial Neural Network\n",
      "Enter skill 3: Logistic Regression\n",
      "Top skills entered by the person: ['Decision Trees', 'Artificial Neural Network', 'Logistic Regression']\n"
     ]
    }
   ],
   "source": [
    "# Allow the person to input their top 3 skills\n",
    "top_skills = []\n",
    "for i in range(3):\n",
    "    skill = input(f\"Enter skill {i+1}: \")\n",
    "    top_skills.append(skill)\n",
    "\n",
    "print(\"Top skills entered by the person:\", top_skills)\n"
   ]
  },
  {
   "cell_type": "code",
   "execution_count": 54,
   "id": "2a48d58c",
   "metadata": {},
   "outputs": [],
   "source": [
    "from sklearn.feature_extraction.text import CountVectorizer\n",
    "from sklearn.metrics.pairwise import cosine_similarity\n"
   ]
  },
  {
   "cell_type": "code",
   "execution_count": 55,
   "id": "83b2f79e",
   "metadata": {},
   "outputs": [],
   "source": [
    "person_skills = ', '.join(top_skills)"
   ]
  },
  {
   "cell_type": "code",
   "execution_count": 59,
   "id": "9f8edc45",
   "metadata": {},
   "outputs": [
    {
     "name": "stderr",
     "output_type": "stream",
     "text": [
      "C:\\Users\\msbha\\AppData\\Local\\Temp\\ipykernel_19748\\1113399515.py:1: FutureWarning: The frame.append method is deprecated and will be removed from pandas in a future version. Use pandas.concat instead.\n",
      "  courses = courses.append({'skills': person_skills}, ignore_index=True)\n"
     ]
    }
   ],
   "source": [
    "courses = courses.append({'skills': person_skills}, ignore_index=True)"
   ]
  },
  {
   "cell_type": "code",
   "execution_count": 68,
   "id": "70b7383d",
   "metadata": {},
   "outputs": [],
   "source": [
    "vectorizer = CountVectorizer()\n",
    "skills_matrix = vectorizer.fit_transform(courses['skills'])"
   ]
  },
  {
   "cell_type": "code",
   "execution_count": 67,
   "id": "b2e63200",
   "metadata": {},
   "outputs": [],
   "source": [
    "courses.dropna(subset=['skills'], inplace=True)\n"
   ]
  },
  {
   "cell_type": "code",
   "execution_count": 69,
   "id": "02cb95e7",
   "metadata": {},
   "outputs": [],
   "source": [
    "cosine_sim = cosine_similarity(skills_matrix[:-1], skills_matrix[-1])"
   ]
  },
  {
   "cell_type": "code",
   "execution_count": 70,
   "id": "f459f6a2",
   "metadata": {},
   "outputs": [],
   "source": [
    "most_similar_index = cosine_sim.argmax()"
   ]
  },
  {
   "cell_type": "code",
   "execution_count": 71,
   "id": "5ce1687d",
   "metadata": {},
   "outputs": [
    {
     "name": "stdout",
     "output_type": "stream",
     "text": [
      "Recommended Category: nan\n",
      "Recommended Subcategory: nan\n"
     ]
    }
   ],
   "source": [
    "recommended_category = courses.loc[most_similar_index, 'Category']\n",
    "recommended_subcategory = courses.loc[most_similar_index, 'Sub-Category']\n",
    "\n",
    "print(\"Recommended Category:\", recommended_category)\n",
    "print(\"Recommended Subcategory:\", recommended_subcategory)"
   ]
  },
  {
   "cell_type": "code",
   "execution_count": null,
   "id": "23915aeb",
   "metadata": {},
   "outputs": [],
   "source": []
  }
 ],
 "metadata": {
  "kernelspec": {
   "display_name": "Python 3 (ipykernel)",
   "language": "python",
   "name": "python3"
  },
  "language_info": {
   "codemirror_mode": {
    "name": "ipython",
    "version": 3
   },
   "file_extension": ".py",
   "mimetype": "text/x-python",
   "name": "python",
   "nbconvert_exporter": "python",
   "pygments_lexer": "ipython3",
   "version": "3.9.13"
  }
 },
 "nbformat": 4,
 "nbformat_minor": 5
}
